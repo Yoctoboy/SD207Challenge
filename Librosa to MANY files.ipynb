{
 "cells": [
  {
   "cell_type": "code",
   "execution_count": 1,
   "metadata": {
    "collapsed": true
   },
   "outputs": [],
   "source": [
    "import os\n",
    "import numpy as np\n",
    "import matplotlib.pyplot as plt\n",
    "import pandas as pd\n",
    "import librosa\n",
    "from pydub import AudioSegment"
   ]
  },
  {
   "cell_type": "code",
   "execution_count": null,
   "metadata": {
    "collapsed": true
   },
   "outputs": [],
   "source": [
    "labels = {'beach': 0,\n",
    "          'bus': 1,\n",
    "          'cafe/restaurant': 2,\n",
    "          'car': 3,\n",
    "          'city_center': 4,\n",
    "          'forest_path': 5,\n",
    "          'grocery_store': 6,\n",
    "          'home': 7,\n",
    "          'library': 8,\n",
    "          'metro_station': 9,\n",
    "          'office': 10,\n",
    "          'park': 11,\n",
    "          'residential_area': 12,\n",
    "          'train': 13,\n",
    "          'tram' : 14\n",
    "          }"
   ]
  },
  {
   "cell_type": "code",
   "execution_count": null,
   "metadata": {
    "collapsed": false,
    "scrolled": true
   },
   "outputs": [],
   "source": [
    "FILEROOT = \"audio/\"\n",
    "train_files = pd.read_table(os.path.join(FILEROOT, \"test_files.txt\"), names=['file', 'label'], sep='\\s+') #dev.txt & train.txt\n",
    "for i, afile in train_files.iterrows():\n",
    "    sound = AudioSegment.from_file(afile.file)\n",
    "    point = len(sound) // 12\n",
    "    for i in range(10):\n",
    "        divided_sound = sound[i*point: (i+2)*point] #subdivision se chevauchant\n",
    "        divided_sound.export(\"test_divided/\"+afile.file[6:-4]+\"_\"+str(i)+\".wav\", format=\"wav\")"
   ]
  },
  {
   "cell_type": "code",
   "execution_count": null,
   "metadata": {
    "collapsed": false
   },
   "outputs": [],
   "source": [
    "FILEROOT = \"audio_divided/\"\n",
    "\n",
    "labels_dict = np.load(\"divided_labels.npy\").item()\n",
    "\n",
    "train_files = pd.read_table(os.path.join(\"audio/train_divided.txt\"), names=['file', 'label'], sep='\\s+')\n",
    "for i, afile in train_files.iterrows():\n",
    "    for j in range(10):\n",
    "        y, sr = librosa.load(\"audio_divided/\"+str(afile.file[6:-4]+\"_\"+str(j)+\".wav\"), sr=None)\n",
    "        mfccs = np.mean(librosa.feature.mfcc(y=y, sr=sr, n_mfcc=150).T,axis=0)\n",
    "        if (i==0):\n",
    "            X_train = [mfccs]\n",
    "            y_train = [labels_dict[str(afile.file[6:-4]+\"_\"+str(j))]]\n",
    "        else:\n",
    "            X_train += [mfccs]\n",
    "            y_train += [labels_dict[str(afile.file[6:-4]+\"_\"+str(j))]]\n",
    "    if ((i+1) % 10 == 0 or i+1 == train_files.shape[0]):\n",
    "        print(\"Train : {0}/{1}\".format(i+1, train_files.shape[0]))\n",
    "\n",
    "np.save(\"X_train_divided\", X_train)\n",
    "np.save(\"y_train_divided\", y_train)"
   ]
  },
  {
   "cell_type": "code",
   "execution_count": null,
   "metadata": {
    "collapsed": false,
    "scrolled": true
   },
   "outputs": [],
   "source": [
    "FILEROOT = \"audio_divided/\"\n",
    "\n",
    "X_test = []\n",
    "labels_dict = np.load(\"divided_labels.npy\").item()\n",
    "\n",
    "test_files = pd.read_table(os.path.join(\"audio/test_files.txt\"), names=['file', 'label'], sep='\\s+')\n",
    "for i, afile in test_files.iterrows():\n",
    "    for j in range(10):\n",
    "        y, sr = librosa.load(\"test_divided/\"+str(afile.file[6:-4]+\"_\"+str(j)+\".wav\"), sr=None)\n",
    "        mfccs = np.mean(librosa.feature.mfcc(y=y, sr=sr, n_mfcc=150).T,axis=0)\n",
    "        if (len(X_test)==0):\n",
    "            X_test = [mfccs]\n",
    "        else:\n",
    "            X_test += [mfccs]\n",
    "    if ((i+1) % 10 == 0 or i+1 == test_files.shape[0]):\n",
    "        print(\"Train : {0}/{1}\".format(i+1, test_files.shape[0]))\n",
    "\n",
    "np.save(\"X_test_divided\", X_test)"
   ]
  },
  {
   "cell_type": "code",
   "execution_count": null,
   "metadata": {
    "collapsed": false
   },
   "outputs": [],
   "source": [
    "a = np.load(\"X_train_divided.npy\")\n",
    "a1 = np.load(\"y_train_divided.npy\")\n",
    "b = np.load(\"X_test_divided.npy\")\n",
    "print(a.shape, a1.shape, b.shape)"
   ]
  }
 ],
 "metadata": {
  "kernelspec": {
   "display_name": "Python 3",
   "language": "python",
   "name": "python3"
  },
  "language_info": {
   "codemirror_mode": {
    "name": "ipython",
    "version": 3
   },
   "file_extension": ".py",
   "mimetype": "text/x-python",
   "name": "python",
   "nbconvert_exporter": "python",
   "pygments_lexer": "ipython3",
   "version": "3.5.2"
  }
 },
 "nbformat": 4,
 "nbformat_minor": 2
}
