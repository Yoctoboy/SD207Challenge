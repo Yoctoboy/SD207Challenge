{
 "cells": [
  {
   "cell_type": "markdown",
   "metadata": {},
   "source": [
    "## Imports and stuff"
   ]
  },
  {
   "cell_type": "code",
   "execution_count": 34,
   "metadata": {
    "collapsed": false
   },
   "outputs": [],
   "source": [
    "import tensorflow as tf\n",
    "import keras\n",
    "from keras.layers import Dense,Dropout, Activation\n",
    "from keras.models import Sequential\n",
    "from keras.optimizers import *\n",
    "\n",
    "import os\n",
    "import numpy as np\n",
    "import matplotlib.pyplot as plt\n",
    "import pandas as pd\n",
    "import librosa\n",
    "from sklearn.linear_model import LogisticRegression, Lasso, ElasticNet\n",
    "from sklearn.neural_network import MLPClassifier\n",
    "from sklearn import preprocessing\n",
    "from sklearn.neighbors import KNeighborsClassifier\n",
    "from sklearn.ensemble import ExtraTreesClassifier\n",
    "from sklearn.decomposition import PCA\n",
    "from sklearn.model_selection import cross_val_score\n",
    "\n",
    "import warnings\n",
    "warnings.filterwarnings(\"ignore\")"
   ]
  },
  {
   "cell_type": "code",
   "execution_count": 35,
   "metadata": {
    "collapsed": true
   },
   "outputs": [],
   "source": [
    "X_train = np.array(np.load(\"X_train.npy\"))\n",
    "y_train = np.array(np.load(\"y_train.npy\"))\n",
    "X_dev = np.array(np.load(\"X_dev.npy\"))\n",
    "y_dev = np.array(np.load(\"y_dev.npy\"))\n",
    "X_test = np.array(np.load(\"X_test.npy\"))\n",
    "y_trainonehot = np.array(pd.get_dummies(y_train))\n",
    "y_devonehot = np.array(pd.get_dummies(y_dev))"
   ]
  },
  {
   "cell_type": "code",
   "execution_count": 36,
   "metadata": {
    "collapsed": false
   },
   "outputs": [],
   "source": [
    "def score_func(y_test, y_true):\n",
    "    if (len(y_test) != len(y_true)):\n",
    "        raise ValueError(\"The two arrays aren't of the same length, aborting\")\n",
    "    else:\n",
    "        return 100*len([y_test[i] for i in range(len(y_test)) if y_test[i]==y_true[i]])/len(y_test)"
   ]
  },
  {
   "cell_type": "markdown",
   "metadata": {},
   "source": [
    "## Neural Network"
   ]
  },
  {
   "cell_type": "code",
   "execution_count": 37,
   "metadata": {
    "collapsed": false
   },
   "outputs": [
    {
     "name": "stdout",
     "output_type": "stream",
     "text": [
      "(582, 193) (290, 193) (298, 193)\n",
      "(582, 50) (290, 50) (298, 50)\n"
     ]
    }
   ],
   "source": [
    "print(X_train.shape, X_dev.shape, X_test.shape)\n",
    "X_tot = np.concatenate([X_train, X_dev, X_test])\n",
    "lol = PCA(n_components = 50)\n",
    "X_tot = lol.fit_transform(X_tot)\n",
    "X_tot = preprocessing.scale(X_tot)\n",
    "X_train, X_dev, X_test = X_tot[:len(X_train)], X_tot[len(X_train):len(X_train)+len(X_dev)], X_tot[len(X_train)+len(X_dev):]\n",
    "print(X_train.shape, X_dev.shape, X_test.shape)"
   ]
  },
  {
   "cell_type": "code",
   "execution_count": 39,
   "metadata": {
    "collapsed": true
   },
   "outputs": [],
   "source": [
    "def unison_shuffled_copies(a, b):\n",
    "    assert len(a) == len(b)\n",
    "    p = np.random.permutation(len(a))\n",
    "    return a[p], b[p]"
   ]
  },
  {
   "cell_type": "code",
   "execution_count": null,
   "metadata": {
    "collapsed": false
   },
   "outputs": [],
   "source": [
    "scores = []\n",
    "cv = 1\n",
    "for i in range(cv):\n",
    "    model = Sequential()\n",
    "    model.add(Dense(20, input_dim = 50))\n",
    "    model.add(Dropout(0.3))\n",
    "    model.add(Activation('relu'))\n",
    "    model.add(Dense(30))\n",
    "    model.add(Dropout(0.3))\n",
    "    model.add(Activation('relu'))\n",
    "    model.add(Dense(15))\n",
    "    model.add(Activation('softmax'))\n",
    "    optimizer = keras.optimizers.Adam(lr=0.001, beta_1=0.9, beta_2=0.999, epsilon=1e-08, decay=1e-4)\n",
    "    model.compile(optimizer = optimizer, loss = 'categorical_crossentropy', metrics = ['accuracy'])\n",
    "    \n",
    "    X = np.concatenate([X_train,X_dev])\n",
    "    y = np.concatenate([y_trainonehot,y_devonehot])\n",
    "    X,y = unison_shuffled_copies(X, y)\n",
    "    \n",
    "    history = model.fit(X,y, batch_size = 10, nb_epoch = 100, \n",
    "                        verbose = 0, validation_split = 0.5)\n",
    "    score1 = model.evaluate(X_train,y_trainonehot,verbose=0)\n",
    "    score2 = model.evaluate(X_dev,y_devonehot,verbose=0)\n",
    "    print(score1[1], score2[1])\n",
    "    scores.append((score1[1]+score2[1])/2)\n",
    "print(\"Mean score:\",np.mean(scores))"
   ]
  },
  {
   "cell_type": "code",
   "execution_count": 136,
   "metadata": {
    "collapsed": false
   },
   "outputs": [
    {
     "name": "stdout",
     "output_type": "stream",
     "text": [
      "[[21  0  0  0  0  0  0  0  0  0  0  0  1  0  0]\n",
      " [ 0 18  0  0  0  0  0  1  0  0  0  0  0  1  0]\n",
      " [ 0  1 17  0  0  0  1  1  0  0  0  0  0  0  0]\n",
      " [ 0  0  0 18  0  0  0  1  0  0  0  0  0  0  3]\n",
      " [ 0  0  0  0 18  0  0  0  0  1  0  0  3  0  0]\n",
      " [ 0  0  0  0  0 17  0  0  0  0  0  0  0  0  0]\n",
      " [ 0  1  2  0  0  0 20  1  0  1  0  0  0  0  0]\n",
      " [ 0  0  0  0  0  0  0 14  0  0  1  0  0  0  0]\n",
      " [ 0  0  0  0  0  1  0  0 18  0  0  1  0  1  0]\n",
      " [ 0  0  0  0  0  0  0  0  0 15  0  0  0  0  1]\n",
      " [ 0  0  0  0  0  0  0  0  0  1 22  0  0  0  0]\n",
      " [ 0  0  0  0  0  0  0  0  0  0  0 17  4  0  0]\n",
      " [ 0  0  0  0  1  0  0  0  0  0  0  0 13  0  0]\n",
      " [ 0  0  0  0  0  0  0  0  0  0  0  0  0 15  0]\n",
      " [ 0  0  0  1  0  0  0  0  0  0  0  0  0  2 14]]\n"
     ]
    }
   ],
   "source": [
    "from sklearn.metrics import confusion_matrix\n",
    "L = [np.argmax(x) for x in model.predict(X_dev)]\n",
    "print(confusion_matrix(L,y_dev))"
   ]
  },
  {
   "cell_type": "code",
   "execution_count": 127,
   "metadata": {
    "collapsed": false
   },
   "outputs": [
    {
     "data": {
      "image/png": "[encoded data removed]",
      "text/plain": [
       "<matplotlib.figure.Figure at 0x2449668bef0>"
      ]
     },
     "metadata": {},
     "output_type": "display_data"
    },
    {
     "data": {
      "image/png": "[encoded data removed]",
      "text/plain": [
       "<matplotlib.figure.Figure at 0x2449092a2e8>"
      ]
     },
     "metadata": {},
     "output_type": "display_data"
    }
   ],
   "source": [
    "%matplotlib inline\n",
    "plt.plot(history.history['acc'])\n",
    "plt.plot(history.history['val_acc'])\n",
    "plt.title('model accuracy')\n",
    "plt.ylabel('accuracy')\n",
    "plt.xlabel('epoch')\n",
    "plt.ylim((0,1))\n",
    "plt.legend(['train', 'test'], loc='upper left')\n",
    "plt.show()\n",
    "\n",
    "plt.plot(history.history['loss'])\n",
    "plt.plot(history.history['val_loss'])\n",
    "plt.title('model loss')\n",
    "plt.ylabel('loss')\n",
    "plt.xlabel('epoch')\n",
    "plt.legend(['train', 'test'], loc='upper left')\n",
    "plt.show()"
   ]
  },
  {
   "cell_type": "code",
   "execution_count": 128,
   "metadata": {
    "collapsed": true
   },
   "outputs": [],
   "source": [
    "pred = model.predict(X_test)\n",
    "pred = [np.argmax(pred[i]) for i in range(len(pred))]\n",
    "np.savetxt('y_pred.txt', pred, fmt=\"%d\")"
   ]
  },
  {
   "cell_type": "markdown",
   "metadata": {},
   "source": [
    "## Regression Logistique ftw"
   ]
  },
  {
   "cell_type": "code",
   "execution_count": 8,
   "metadata": {
    "collapsed": false
   },
   "outputs": [],
   "source": [
    "clf = LogisticRegression()\n",
    "clf.fit(np.concatenate([X_train,X_dev]),np.concatenate([y_train,y_dev]))\n",
    "#clf.fit(X_dev, y_dev)\n",
    "s = clf.predict(X_test)\n",
    "np.savetxt('y_pred.txt', s, fmt=\"%d\")"
   ]
  },
  {
   "cell_type": "code",
   "execution_count": null,
   "metadata": {
    "collapsed": true
   },
   "outputs": [],
   "source": []
  }
 ],
 "metadata": {
  "kernelspec": {
   "display_name": "Python 3",
   "language": "python",
   "name": "python3"
  },
  "language_info": {
   "codemirror_mode": {
    "name": "ipython",
    "version": 3
   },
   "file_extension": ".py",
   "mimetype": "text/x-python",
   "name": "python",
   "nbconvert_exporter": "python",
   "pygments_lexer": "ipython3",
   "version": "3.5.1"
  }
 },
 "nbformat": 4,
 "nbformat_minor": 2
}
