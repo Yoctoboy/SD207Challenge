{
 "cells": [
  {
   "cell_type": "markdown",
   "metadata": {},
   "source": [
    "## Imports and stuff"
   ]
  },
  {
   "cell_type": "code",
   "execution_count": null,
   "metadata": {
    "collapsed": false
   },
   "outputs": [],
   "source": [
    "import tensorflow as tf\n",
    "import keras\n",
    "from keras.layers import Dense,Dropout, Activation\n",
    "from keras.models import Sequential\n",
    "from keras.optimizers import *\n",
    "\n",
    "import os\n",
    "import numpy as np\n",
    "import matplotlib.pyplot as plt\n",
    "import pandas as pd\n",
    "import librosa\n",
    "from sklearn.linear_model import LogisticRegression, Lasso, ElasticNet\n",
    "from sklearn.neural_network import MLPClassifier\n",
    "from sklearn import preprocessing\n",
    "from sklearn.neighbors import KNeighborsClassifier\n",
    "from sklearn.ensemble import ExtraTreesClassifier\n",
    "from sklearn.decomposition import PCA\n",
    "from sklearn.model_selection import cross_val_score\n",
    "\n",
    "import warnings\n",
    "warnings.filterwarnings(\"ignore\")"
   ]
  },
  {
   "cell_type": "code",
   "execution_count": null,
   "metadata": {
    "collapsed": true
   },
   "outputs": [],
   "source": [
    "X_train = np.array(np.load(\"X_train.npy\"))\n",
    "y_train = np.array(np.load(\"y_train.npy\"))\n",
    "X_dev = np.array(np.load(\"X_dev.npy\"))\n",
    "y_dev = np.array(np.load(\"y_dev.npy\"))\n",
    "X_test = np.array(np.load(\"X_test.npy\"))\n",
    "y_trainonehot = np.array(pd.get_dummies(y_train))\n",
    "y_devonehot = np.array(pd.get_dummies(y_dev))"
   ]
  },
  {
   "cell_type": "code",
   "execution_count": null,
   "metadata": {
    "collapsed": false
   },
   "outputs": [],
   "source": [
    "def score_func(y_test, y_true):\n",
    "    if (len(y_test) != len(y_true)):\n",
    "        raise ValueError(\"The two arrays aren't of the same length, aborting\")\n",
    "    else:\n",
    "        return 100*len([y_test[i] for i in range(len(y_test)) if y_test[i]==y_true[i]])/len(y_test)"
   ]
  },
  {
   "cell_type": "markdown",
   "metadata": {},
   "source": [
    "## Neural Network"
   ]
  },
  {
   "cell_type": "code",
   "execution_count": null,
   "metadata": {
    "collapsed": false
   },
   "outputs": [],
   "source": [
    "print(X_train.shape, X_dev.shape, X_test.shape)\n",
    "X_tot = np.concatenate([X_train, X_dev, X_test])\n",
    "#lol = PCA(n_components = 50)\n",
    "#X_tot = lol.fit_transform(X_tot)\n",
    "X_tot = preprocessing.scale(X_tot)\n",
    "X_train, X_dev, X_test = X_tot[:len(X_train)], X_tot[len(X_train):len(X_train)+len(X_dev)], X_tot[len(X_train)+len(X_dev):]\n",
    "print(X_train.shape, X_dev.shape, X_test.shape)"
   ]
  },
  {
   "cell_type": "code",
   "execution_count": null,
   "metadata": {
    "collapsed": true
   },
   "outputs": [],
   "source": [
    "def unison_shuffled_copies(a, b):\n",
    "    assert len(a) == len(b)\n",
    "    p = np.random.permutation(len(a))\n",
    "    return a[p], b[p]"
   ]
  },
  {
   "cell_type": "code",
   "execution_count": null,
   "metadata": {
    "collapsed": false
   },
   "outputs": [],
   "source": [
    "scores = []\n",
    "cv = 1\n",
    "for i in range(cv):\n",
    "    model = Sequential()\n",
    "    model.add(Dense(40, input_dim = 193))\n",
    "    model.add(Dropout(0.1))\n",
    "    model.add(Activation('relu'))\n",
    "    model.add(Dense(20))\n",
    "    model.add(Dropout(0.1))\n",
    "    model.add(Activation('relu'))\n",
    "    model.add(Dense(15))\n",
    "    model.add(Activation('softmax'))\n",
    "    #optimizer = keras.optimizers.Adam(lr=0.001, beta_1=0.9, beta_2=0.999, epsilon=1e-08, decay=1e-4)\n",
    "    model.compile(optimizer = 'adam', loss = 'categorical_crossentropy', metrics = ['accuracy'])\n",
    "    \n",
    "    X = np.concatenate([X_train,X_dev])\n",
    "    y = np.concatenate([y_trainonehot,y_devonehot])\n",
    "    X,y = unison_shuffled_copies(X, y)\n",
    "    \n",
    "    history = model.fit(X,y, batch_size = 10, nb_epoch = 40, \n",
    "                        verbose = 0, validation_split = 0.1)\n",
    "    score1 = model.evaluate(X_train,y_trainonehot,verbose=0)\n",
    "    score2 = model.evaluate(X_dev,y_devonehot,verbose=0)\n",
    "    print(score1[1], score2[1])\n",
    "    scores.append((score1[1]+score2[1])/2)\n",
    "print(\"Mean score:\",np.mean(scores))"
   ]
  },
  {
   "cell_type": "code",
   "execution_count": null,
   "metadata": {
    "collapsed": false
   },
   "outputs": [],
   "source": [
    "from sklearn.metrics import confusion_matrix\n",
    "L = [np.argmax(x) for x in model.predict(X_dev)]\n",
    "print(confusion_matrix(L,y_dev))"
   ]
  },
  {
   "cell_type": "code",
   "execution_count": null,
   "metadata": {
    "collapsed": false
   },
   "outputs": [],
   "source": [
    "%matplotlib inline\n",
    "plt.plot(history.history['acc'])\n",
    "plt.plot(history.history['val_acc'])\n",
    "plt.title('model accuracy')\n",
    "plt.ylabel('accuracy')\n",
    "plt.xlabel('epoch')\n",
    "plt.ylim((0,1))\n",
    "plt.legend(['train', 'test'], loc='upper left')\n",
    "plt.show()\n",
    "\n",
    "plt.plot(history.history['loss'])\n",
    "plt.plot(history.history['val_loss'])\n",
    "plt.title('model loss')\n",
    "plt.ylabel('loss')\n",
    "plt.xlabel('epoch')\n",
    "plt.legend(['train', 'test'], loc='upper left')\n",
    "plt.show()"
   ]
  },
  {
   "cell_type": "code",
   "execution_count": null,
   "metadata": {
    "collapsed": false
   },
   "outputs": [],
   "source": [
    "nn_pred = model.predict(X_test)\n",
    "nn_pred = [np.argmax(nn_pred[i]) for i in range(len(nn_pred))]\n",
    "np.savetxt('y_pred.txt', nn_pred, fmt=\"%d\")\n",
    "print(np.unique(nn_pred,return_counts=True))"
   ]
  },
  {
   "cell_type": "markdown",
   "metadata": {},
   "source": [
    "## Regression Logistique ftw"
   ]
  },
  {
   "cell_type": "code",
   "execution_count": null,
   "metadata": {
    "collapsed": false
   },
   "outputs": [],
   "source": [
    "reg = LogisticRegression()\n",
    "reg.fit(np.concatenate([X_train,X_dev]),np.concatenate([y_train,y_dev]))\n",
    "#clf.fit(X_dev, y_dev)\n",
    "reg_pred = reg.predict(X_test)\n",
    "np.savetxt('y_pred.txt', reg_pred, fmt=\"%d\")"
   ]
  },
  {
   "cell_type": "markdown",
   "metadata": {},
   "source": [
    "# K-means"
   ]
  },
  {
   "cell_type": "code",
   "execution_count": null,
   "metadata": {
    "collapsed": false
   },
   "outputs": [],
   "source": [
    "from sklearn.cluster import KMeans\n",
    "import operator\n",
    "dict_list = []\n",
    "for i in range(15):\n",
    "    dict_list.append({})\n",
    "kmeans = KMeans(n_clusters=15, random_state=0).fit(X_tot)\n",
    "X = np.concatenate([X_train,X_dev])\n",
    "y = np.concatenate([y_train,y_dev])\n",
    "pred = kmeans.predict(X)\n",
    "#print(pred, y)\n",
    "for i in range(len(pred)):\n",
    "    try:\n",
    "        dict_list[pred[i]][y[i]] += 1\n",
    "    except:\n",
    "        dict_list[pred[i]][y[i]] = 1\n",
    "#print(dict_list)\n",
    "corr_dict = {}\n",
    "for i in range(15):\n",
    "    try:\n",
    "        corr_dict[i] = max(dict_list[i].items(), key=operator.itemgetter(1))[0]\n",
    "    except:\n",
    "        corr_dict[i] = None\n",
    "        \n",
    "for i in range(len(pred)):\n",
    "    pred[i] = corr_dict[pred[i]]"
   ]
  },
  {
   "cell_type": "code",
   "execution_count": null,
   "metadata": {
    "collapsed": false
   },
   "outputs": [],
   "source": [
    "\"\"\"y_new = []\n",
    "pred_new = []\n",
    "new_class = {3:1,13:1,14:1,11:4,12:4,9:4,6:4,7:4,10:4}\n",
    "for i in range(len(y)):\n",
    "    try:\n",
    "        y_new.append(new_class[y[i]])        \n",
    "    except:\n",
    "        y_new.append(y[i])\n",
    "    try:\n",
    "        pred_new.append(new_class[pred[i]])\n",
    "    except:\n",
    "        pred_new.append(pred[i])\"\"\"\n",
    "from sklearn.metrics import confusion_matrix, accuracy_score\n",
    "print(confusion_matrix(y,pred))\n",
    "print(accuracy_score(y,pred))"
   ]
  },
  {
   "cell_type": "markdown",
   "metadata": {},
   "source": [
    "## XGBoost "
   ]
  },
  {
   "cell_type": "code",
   "execution_count": null,
   "metadata": {
    "collapsed": false
   },
   "outputs": [],
   "source": [
    "from xgboost import XGBClassifier\n",
    "gbm = XGBClassifier()\n",
    "X = np.concatenate([X_train,X_dev])\n",
    "y = np.concatenate([y_train,y_dev])\n",
    "X,y = unison_shuffled_copies(X, y)\n",
    "    \n",
    "print(X.shape,y.shape)\n",
    "gbm.fit(X, y)"
   ]
  },
  {
   "cell_type": "code",
   "execution_count": null,
   "metadata": {
    "collapsed": false
   },
   "outputs": [],
   "source": [
    "xgboost_pred = gbm.predict(X_test)\n",
    "np.savetxt('y_pred.txt', xgboost_pred, fmt=\"%d\")\n",
    "print(np.unique(xgboost_pred,return_counts=True))"
   ]
  },
  {
   "cell_type": "markdown",
   "metadata": {},
   "source": [
    "## Mix results "
   ]
  },
  {
   "cell_type": "code",
   "execution_count": null,
   "metadata": {
    "collapsed": false
   },
   "outputs": [],
   "source": [
    "new_pred = []\n",
    "from collections import Counter\n",
    "preds = {}\n",
    "for i in range(len(nn_pred)):\n",
    "    preds[i] = []\n",
    "    preds[i].append(nn_pred[i])\n",
    "    preds[i].append(reg_pred[i])\n",
    "    preds[i].append(xgboost_pred[i])\n",
    "for x in preds.values():\n",
    "    count = Counter(x)\n",
    "    new_pred.append(count.most_common()[0][0])\n",
    "np.savetxt('y_pred.txt', new_pred, fmt=\"%d\")\n",
    "print(np.unique(new_pred,return_counts=True))"
   ]
  }
 ],
 "metadata": {
  "kernelspec": {
   "display_name": "Python 3",
   "language": "python",
   "name": "python3"
  },
  "language_info": {
   "codemirror_mode": {
    "name": "ipython",
    "version": 3
   },
   "file_extension": ".py",
   "mimetype": "text/x-python",
   "name": "python",
   "nbconvert_exporter": "python",
   "pygments_lexer": "ipython3",
   "version": "3.5.1"
  }
 },
 "nbformat": 4,
 "nbformat_minor": 2
}
