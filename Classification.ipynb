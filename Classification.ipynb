{
 "cells": [
  {
   "cell_type": "markdown",
   "metadata": {
    "deletable": true,
    "editable": true
   },
   "source": [
    "## Imports and stuff"
   ]
  },
  {
   "cell_type": "code",
   "execution_count": 31,
   "metadata": {
    "collapsed": false,
    "deletable": true,
    "editable": true
   },
   "outputs": [],
   "source": [
    "import tensorflow as tf\n",
    "import keras\n",
    "from keras.layers import Dense,Dropout, Activation\n",
    "from keras.models import Sequential\n",
    "from keras.optimizers import *\n",
    "\n",
    "import os\n",
    "import numpy as np\n",
    "import matplotlib.pyplot as plt\n",
    "import pandas as pd\n",
    "import librosa\n",
    "from sklearn.linear_model import LogisticRegression, Lasso, ElasticNet\n",
    "from sklearn.neural_network import MLPClassifier\n",
    "from sklearn.preprocessing import scale, PolynomialFeatures\n",
    "from sklearn.neighbors import KNeighborsClassifier\n",
    "from sklearn.ensemble import ExtraTreesClassifier\n",
    "from sklearn.decomposition import PCA\n",
    "from sklearn.model_selection import cross_val_score\n",
    "\n",
    "import warnings\n",
    "warnings.filterwarnings(\"ignore\")"
   ]
  },
  {
   "cell_type": "code",
   "execution_count": 32,
   "metadata": {
    "collapsed": false,
    "deletable": true,
    "editable": true
   },
   "outputs": [
    {
     "name": "stdout",
     "output_type": "stream",
     "text": [
      "(582, 193) (298, 193) (290, 193)\n"
     ]
    }
   ],
   "source": [
    "X_train = np.array(np.load(\"X_train.npy\"))\n",
    "y_train = np.array(np.load(\"y_train.npy\"))\n",
    "X_dev = np.array(np.load(\"X_dev.npy\"))\n",
    "y_dev = np.array(np.load(\"y_dev.npy\"))\n",
    "X_test = np.array(np.load(\"X_test.npy\"))\n",
    "y_trainonehot = np.array(pd.get_dummies(y_train))\n",
    "y_devonehot = np.array(pd.get_dummies(y_dev))\n",
    "print(X_train.shape, X_test.shape, X_dev.shape)"
   ]
  },
  {
   "cell_type": "markdown",
   "metadata": {
    "deletable": true,
    "editable": true
   },
   "source": [
    "## Neural Network"
   ]
  },
  {
   "cell_type": "code",
   "execution_count": 33,
   "metadata": {
    "collapsed": false,
    "deletable": true,
    "editable": true
   },
   "outputs": [
    {
     "name": "stdout",
     "output_type": "stream",
     "text": [
      "(582, 193) (582,) (290, 193) (290,) (298, 193)\n"
     ]
    }
   ],
   "source": [
    "y_trainonehot = np.array(pd.get_dummies(y_train))\n",
    "y_devonehot = np.array(pd.get_dummies(y_dev))\n",
    "X_tot = np.concatenate([X_train, X_dev, X_test])\n",
    "X_tot = scale(X_tot)\n",
    "\"\"\"X_tot = PolynomialFeatures(interaction_only=True).fit_transform(X_tot)\n",
    "lol = PCA(n_components = 500)\n",
    "X_tot = lol.fit_transform(X_tot)\"\"\"\n",
    "X_train, X_dev, X_test = X_tot[:len(X_train)], X_tot[len(X_train):len(X_train)+len(X_dev)], X_tot[len(X_train)+len(X_dev):]\n",
    "print(X_train.shape, y_train.shape, X_dev.shape, y_dev.shape, X_test.shape)"
   ]
  },
  {
   "cell_type": "code",
   "execution_count": 34,
   "metadata": {
    "collapsed": true,
    "deletable": true,
    "editable": true
   },
   "outputs": [],
   "source": [
    "def unison_shuffled_copies(a, b):\n",
    "    assert len(a) == len(b)\n",
    "    p = np.random.permutation(len(a))\n",
    "    return a[p], b[p]"
   ]
  },
  {
   "cell_type": "code",
   "execution_count": 36,
   "metadata": {
    "collapsed": false,
    "deletable": true,
    "editable": true
   },
   "outputs": [
    {
     "name": "stdout",
     "output_type": "stream",
     "text": [
      "0.994845360825 0.996551724138\n",
      "Mean score: 0.995698542481\n"
     ]
    }
   ],
   "source": [
    "scores = []\n",
    "cv = 1\n",
    "for i in range(cv):\n",
    "    model = Sequential()\n",
    "    model.add(Dense(40, input_dim = 193))\n",
    "    model.add(Dropout(0.1))\n",
    "    model.add(Activation('relu'))\n",
    "    model.add(Dense(20))\n",
    "    model.add(Dropout(0.1))\n",
    "    model.add(Activation('relu'))\n",
    "    model.add(Dense(15))\n",
    "    model.add(Activation('softmax'))\n",
    "    #optimizer = keras.optimizers.Adam(lr=0.001, beta_1=0.9, beta_2=0.999, epsilon=1e-08, decay=1e-4)\n",
    "    model.compile(optimizer = 'adam', loss = 'categorical_crossentropy', metrics = ['accuracy'])\n",
    "    \n",
    "    X = np.concatenate([X_train, X_dev])\n",
    "    y = np.concatenate([y_trainonehot, y_devonehot])\n",
    "    X, y = unison_shuffled_copies(X, y)\n",
    "    \n",
    "    history = model.fit(X, y, batch_size = 10, nb_epoch = 40, \n",
    "                        verbose = 0, validation_split = 0.1)\n",
    "    score1 = model.evaluate(X_train,y_trainonehot,verbose=0)\n",
    "    score2 = model.evaluate(X_dev,y_devonehot,verbose=0)\n",
    "    print(score1[1], score2[1])\n",
    "    scores.append((score1[1]+score2[1])/2)\n",
    "print(\"Mean score:\", np.mean(scores))"
   ]
  },
  {
   "cell_type": "code",
   "execution_count": 37,
   "metadata": {
    "collapsed": false,
    "deletable": true,
    "editable": true
   },
   "outputs": [
    {
     "name": "stdout",
     "output_type": "stream",
     "text": [
      "[[21  0  0  0  0  0  0  0  0  0  0  0  0  0  0]\n",
      " [ 0 20  0  0  0  0  0  0  0  0  0  0  0  0  0]\n",
      " [ 0  0 19  0  0  0  0  0  0  1  0  0  0  0  0]\n",
      " [ 0  0  0 19  0  0  0  0  0  0  0  0  0  0  0]\n",
      " [ 0  0  0  0 19  0  0  0  0  0  0  0  0  0  0]\n",
      " [ 0  0  0  0  0 18  0  0  0  0  0  0  0  0  0]\n",
      " [ 0  0  0  0  0  0 21  0  0  0  0  0  0  0  0]\n",
      " [ 0  0  0  0  0  0  0 18  0  0  0  0  0  0  0]\n",
      " [ 0  0  0  0  0  0  0  0 18  0  0  0  0  0  0]\n",
      " [ 0  0  0  0  0  0  0  0  0 17  0  0  0  0  0]\n",
      " [ 0  0  0  0  0  0  0  0  0  0 23  0  0  0  0]\n",
      " [ 0  0  0  0  0  0  0  0  0  0  0 18  0  0  0]\n",
      " [ 0  0  0  0  0  0  0  0  0  0  0  0 21  0  0]\n",
      " [ 0  0  0  0  0  0  0  0  0  0  0  0  0 19  0]\n",
      " [ 0  0  0  0  0  0  0  0  0  0  0  0  0  0 18]]\n"
     ]
    }
   ],
   "source": [
    "from sklearn.metrics import confusion_matrix\n",
    "L = [np.argmax(x) for x in model.predict(X_dev)]\n",
    "print(confusion_matrix(L,y_dev))"
   ]
  },
  {
   "cell_type": "code",
   "execution_count": 14,
   "metadata": {
    "collapsed": false,
    "deletable": true,
    "editable": true
   },
   "outputs": [
    {
     "ename": "NameError",
     "evalue": "name 'history' is not defined",
     "output_type": "error",
     "traceback": [
      "\u001b[1;31m---------------------------------------------------------------------------\u001b[0m",
      "\u001b[1;31mNameError\u001b[0m                                 Traceback (most recent call last)",
      "\u001b[1;32m<ipython-input-14-5b7b5a9b7e61>\u001b[0m in \u001b[0;36m<module>\u001b[1;34m()\u001b[0m\n\u001b[0;32m      1\u001b[0m \u001b[0mget_ipython\u001b[0m\u001b[1;33m(\u001b[0m\u001b[1;33m)\u001b[0m\u001b[1;33m.\u001b[0m\u001b[0mmagic\u001b[0m\u001b[1;33m(\u001b[0m\u001b[1;34m'matplotlib inline'\u001b[0m\u001b[1;33m)\u001b[0m\u001b[1;33m\u001b[0m\u001b[0m\n\u001b[1;32m----> 2\u001b[1;33m \u001b[0mplt\u001b[0m\u001b[1;33m.\u001b[0m\u001b[0mplot\u001b[0m\u001b[1;33m(\u001b[0m\u001b[0mhistory\u001b[0m\u001b[1;33m.\u001b[0m\u001b[0mhistory\u001b[0m\u001b[1;33m[\u001b[0m\u001b[1;34m'acc'\u001b[0m\u001b[1;33m]\u001b[0m\u001b[1;33m)\u001b[0m\u001b[1;33m\u001b[0m\u001b[0m\n\u001b[0m\u001b[0;32m      3\u001b[0m \u001b[0mplt\u001b[0m\u001b[1;33m.\u001b[0m\u001b[0mplot\u001b[0m\u001b[1;33m(\u001b[0m\u001b[0mhistory\u001b[0m\u001b[1;33m.\u001b[0m\u001b[0mhistory\u001b[0m\u001b[1;33m[\u001b[0m\u001b[1;34m'val_acc'\u001b[0m\u001b[1;33m]\u001b[0m\u001b[1;33m)\u001b[0m\u001b[1;33m\u001b[0m\u001b[0m\n\u001b[0;32m      4\u001b[0m \u001b[0mplt\u001b[0m\u001b[1;33m.\u001b[0m\u001b[0mtitle\u001b[0m\u001b[1;33m(\u001b[0m\u001b[1;34m'model accuracy'\u001b[0m\u001b[1;33m)\u001b[0m\u001b[1;33m\u001b[0m\u001b[0m\n\u001b[0;32m      5\u001b[0m \u001b[0mplt\u001b[0m\u001b[1;33m.\u001b[0m\u001b[0mylabel\u001b[0m\u001b[1;33m(\u001b[0m\u001b[1;34m'accuracy'\u001b[0m\u001b[1;33m)\u001b[0m\u001b[1;33m\u001b[0m\u001b[0m\n",
      "\u001b[1;31mNameError\u001b[0m: name 'history' is not defined"
     ]
    }
   ],
   "source": [
    "%matplotlib inline\n",
    "plt.plot(history.history['acc'])\n",
    "plt.plot(history.history['val_acc'])\n",
    "plt.title('model accuracy')\n",
    "plt.ylabel('accuracy')\n",
    "plt.xlabel('epoch')\n",
    "plt.ylim((0,1))\n",
    "plt.legend(['train', 'test'], loc='upper left')\n",
    "plt.show()\n",
    "\n",
    "plt.plot(history.history['loss'])\n",
    "plt.plot(history.history['val_loss'])\n",
    "plt.title('model loss')\n",
    "plt.ylabel('loss')\n",
    "plt.xlabel('epoch')\n",
    "plt.legend(['train', 'test'], loc='upper left')\n",
    "plt.show()"
   ]
  },
  {
   "cell_type": "code",
   "execution_count": 38,
   "metadata": {
    "collapsed": false,
    "deletable": true,
    "editable": true
   },
   "outputs": [
    {
     "name": "stdout",
     "output_type": "stream",
     "text": [
      "(array([ 0,  1,  2,  3,  4,  5,  6,  7,  8,  9, 10, 11, 12, 13, 14], dtype=int64), array([16, 25, 16, 13, 20, 24, 33, 16, 25, 23,  9, 13, 29, 14, 22], dtype=int64))\n"
     ]
    }
   ],
   "source": [
    "nn_pred = model.predict(X_test)\n",
    "nn_pred = [np.argmax(nn_pred[i]) for i in range(len(nn_pred))]\n",
    "np.savetxt('y_pred.txt', nn_pred, fmt=\"%d\")\n",
    "print(np.unique(nn_pred,return_counts=True))"
   ]
  },
  {
   "cell_type": "markdown",
   "metadata": {
    "deletable": true,
    "editable": true
   },
   "source": [
    "## Regression Logistique ftw"
   ]
  },
  {
   "cell_type": "code",
   "execution_count": 39,
   "metadata": {
    "collapsed": false,
    "deletable": true,
    "editable": true
   },
   "outputs": [],
   "source": [
    "reg = LogisticRegression()\n",
    "reg.fit(np.concatenate([X_train,X_dev]),np.concatenate([y_train,y_dev]))\n",
    "#clf.fit(X_dev, y_dev)\n",
    "reg_pred = reg.predict(X_test)\n",
    "np.savetxt('y_pred.txt', reg_pred, fmt=\"%d\")"
   ]
  },
  {
   "cell_type": "markdown",
   "metadata": {
    "deletable": true,
    "editable": true
   },
   "source": [
    "## SVM"
   ]
  },
  {
   "cell_type": "code",
   "execution_count": 40,
   "metadata": {
    "collapsed": false,
    "deletable": true,
    "editable": true
   },
   "outputs": [
    {
     "name": "stdout",
     "output_type": "stream",
     "text": [
      "(array([ 0,  1,  2,  3,  4,  5,  6,  7,  8,  9, 10, 11, 12, 13, 14]), array([15, 27, 15,  9, 20, 19, 30, 21, 32, 23, 10, 11, 21, 26, 19], dtype=int64))\n",
      "0.979357798165\n"
     ]
    }
   ],
   "source": [
    "from sklearn.svm import SVC\n",
    "X = np.concatenate([X_train,X_dev])\n",
    "y = np.concatenate([y_train,y_dev])\n",
    "X,y = unison_shuffled_copies(X, y)\n",
    "svm = SVC()\n",
    "svm.fit(X,y)\n",
    "svm_pred = svm.predict(X_test)\n",
    "np.savetxt('y_pred.txt', svm_pred, fmt=\"%d\")\n",
    "print(np.unique(svm_pred,return_counts=True))\n",
    "print(svm.score(X,y))"
   ]
  },
  {
   "cell_type": "markdown",
   "metadata": {
    "deletable": true,
    "editable": true
   },
   "source": [
    "# K-means"
   ]
  },
  {
   "cell_type": "code",
   "execution_count": 41,
   "metadata": {
    "collapsed": false,
    "deletable": true,
    "editable": true
   },
   "outputs": [],
   "source": [
    "from sklearn.cluster import KMeans\n",
    "import operator\n",
    "dict_list = []\n",
    "for i in range(15):\n",
    "    dict_list.append({})\n",
    "kmeans = KMeans(n_clusters=15, random_state=0).fit(X_tot)\n",
    "X = np.concatenate([X_train,X_dev])\n",
    "y = np.concatenate([y_train,y_dev])\n",
    "pred = kmeans.predict(X)\n",
    "#print(pred, y)\n",
    "for i in range(len(pred)):\n",
    "    try:\n",
    "        dict_list[pred[i]][y[i]] += 1\n",
    "    except:\n",
    "        dict_list[pred[i]][y[i]] = 1\n",
    "#print(dict_list)\n",
    "corr_dict = {}\n",
    "for i in range(15):\n",
    "    try:\n",
    "        corr_dict[i] = max(dict_list[i].items(), key=operator.itemgetter(1))[0]\n",
    "    except:\n",
    "        corr_dict[i] = None\n",
    "        \n",
    "for i in range(len(pred)):\n",
    "    pred[i] = corr_dict[pred[i]]"
   ]
  },
  {
   "cell_type": "code",
   "execution_count": 42,
   "metadata": {
    "collapsed": false,
    "deletable": true,
    "editable": true
   },
   "outputs": [
    {
     "name": "stdout",
     "output_type": "stream",
     "text": [
      "[[244  85  74]\n",
      " [  7 150  20]\n",
      " [ 52  26 214]]\n",
      "0.697247706422\n"
     ]
    }
   ],
   "source": [
    "y_new = []\n",
    "pred_new = []\n",
    "new_class = {0:1, 1:1, 3:1, 4:1, 13:1, 14:1, 9:1,    5:5, 11:5, 12:5,    2:7, 6:7, 7:7, 8:7, 10:7}\n",
    "for i in range(len(y)):\n",
    "    try:\n",
    "        y_new.append(new_class[y[i]])        \n",
    "    except:\n",
    "        y_new.append(y[i])\n",
    "    try:\n",
    "        pred_new.append(new_class[pred[i]])\n",
    "    except:\n",
    "        pred_new.append(pred[i])\n",
    "from sklearn.metrics import confusion_matrix, accuracy_score\n",
    "print(confusion_matrix(y_new,pred_new))\n",
    "print(accuracy_score(y_new,pred_new))"
   ]
  },
  {
   "cell_type": "markdown",
   "metadata": {
    "deletable": true,
    "editable": true
   },
   "source": [
    "## XGBoost "
   ]
  },
  {
   "cell_type": "code",
   "execution_count": 43,
   "metadata": {
    "collapsed": false,
    "deletable": true,
    "editable": true
   },
   "outputs": [
    {
     "name": "stdout",
     "output_type": "stream",
     "text": [
      "(872, 193) (872,)\n"
     ]
    },
    {
     "data": {
      "text/plain": [
       "XGBClassifier(base_score=0.5, colsample_bylevel=1, colsample_bytree=1,\n",
       "       gamma=0, learning_rate=0.1, max_delta_step=0, max_depth=3,\n",
       "       min_child_weight=1, missing=None, n_estimators=100, nthread=-1,\n",
       "       objective='multi:softprob', reg_alpha=0, reg_lambda=1,\n",
       "       scale_pos_weight=1, seed=0, silent=True, subsample=1)"
      ]
     },
     "execution_count": 43,
     "metadata": {},
     "output_type": "execute_result"
    }
   ],
   "source": [
    "import os\n",
    "mingw_path = 'C:\\\\mingw64\\\\bin'\n",
    "os.environ['PATH'] = mingw_path + ';' + os.environ['PATH']\n",
    "import xgboost as xgb\n",
    "\n",
    "gbm = xgb.XGBClassifier()\n",
    "X = np.concatenate([X_train,X_dev])\n",
    "y = np.concatenate([y_train,y_dev])\n",
    "X,y = unison_shuffled_copies(X, y)\n",
    "    \n",
    "print(X.shape,y.shape)\n",
    "gbm.fit(X, y)"
   ]
  },
  {
   "cell_type": "code",
   "execution_count": 44,
   "metadata": {
    "collapsed": false,
    "deletable": true,
    "editable": true
   },
   "outputs": [
    {
     "name": "stdout",
     "output_type": "stream",
     "text": [
      "(array([ 0,  1,  2,  3,  4,  5,  6,  7,  8,  9, 10, 11, 12, 13, 14]), array([12, 19, 12, 22, 17, 13, 25, 24, 21, 26, 16, 24, 30,  8, 29], dtype=int64))\n"
     ]
    }
   ],
   "source": [
    "xgboost_pred = gbm.predict(X_test)\n",
    "np.savetxt('y_pred.txt', xgboost_pred, fmt=\"%d\")\n",
    "print(np.unique(xgboost_pred,return_counts=True))"
   ]
  },
  {
   "cell_type": "markdown",
   "metadata": {
    "deletable": true,
    "editable": true
   },
   "source": [
    "## Mix results "
   ]
  },
  {
   "cell_type": "code",
   "execution_count": 45,
   "metadata": {
    "collapsed": false,
    "deletable": true,
    "editable": true
   },
   "outputs": [
    {
     "name": "stdout",
     "output_type": "stream",
     "text": [
      "(array([ 0,  1,  2,  3,  4,  5,  6,  7,  8,  9, 10, 11, 12, 13, 14], dtype=int64), array([17, 26, 19, 12, 20, 21, 28, 16, 28, 25, 10, 14, 27, 11, 24], dtype=int64))\n"
     ]
    }
   ],
   "source": [
    "new_pred = []\n",
    "from collections import Counter\n",
    "preds = {}\n",
    "for i in range(len(nn_pred)):\n",
    "    preds[i] = []\n",
    "    preds[i].append(nn_pred[i])\n",
    "    preds[i].append(reg_pred[i])\n",
    "    preds[i].append(xgboost_pred[i])\n",
    "    preds[i].append(svm_pred[i])\n",
    "for x in preds.values():\n",
    "    count = Counter(x)\n",
    "    new_pred.append(count.most_common()[0][0])\n",
    "np.savetxt('y_pred.txt', new_pred, fmt=\"%d\")\n",
    "print(np.unique(new_pred,return_counts=True))"
   ]
  },
  {
   "cell_type": "markdown",
   "metadata": {
    "collapsed": true,
    "deletable": true,
    "editable": true
   },
   "source": [
    "## Test"
   ]
  },
  {
   "cell_type": "code",
   "execution_count": 61,
   "metadata": {
    "collapsed": false,
    "deletable": true,
    "editable": true
   },
   "outputs": [],
   "source": [
    "from sklearn.neighbors import KNeighborsClassifier \n",
    "clf = KNeighborsClassifier(n_neighbors = 3)\n",
    "clf.fit(X,y)\n",
    "y = clf.predict(X_test)\n",
    "np.savetxt('y_pred.txt', y, fmt=\"%d\")"
   ]
  },
  {
   "cell_type": "code",
   "execution_count": null,
   "metadata": {
    "collapsed": true,
    "deletable": true,
    "editable": true
   },
   "outputs": [],
   "source": []
  }
 ],
 "metadata": {
  "kernelspec": {
   "display_name": "Python 3",
   "language": "python",
   "name": "python3"
  },
  "language_info": {
   "codemirror_mode": {
    "name": "ipython",
    "version": 3
   },
   "file_extension": ".py",
   "mimetype": "text/x-python",
   "name": "python",
   "nbconvert_exporter": "python",
   "pygments_lexer": "ipython3",
   "version": "3.5.2"
  }
 },
 "nbformat": 4,
 "nbformat_minor": 2
}
