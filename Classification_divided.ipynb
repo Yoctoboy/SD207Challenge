{
 "cells": [
  {
   "cell_type": "markdown",
   "metadata": {
    "deletable": true,
    "editable": true
   },
   "source": [
    "## Imports and stuff"
   ]
  },
  {
   "cell_type": "code",
   "execution_count": 54,
   "metadata": {
    "collapsed": false,
    "deletable": true,
    "editable": true
   },
   "outputs": [],
   "source": [
    "import tensorflow as tf\n",
    "import keras\n",
    "from keras.layers import Dense,Dropout, Activation\n",
    "from keras.models import Sequential\n",
    "from keras.optimizers import *\n",
    "\n",
    "import os\n",
    "import numpy as np\n",
    "import matplotlib.pyplot as plt\n",
    "import pandas as pd\n",
    "import librosa\n",
    "from sklearn.linear_model import LogisticRegression, Lasso, ElasticNet\n",
    "from sklearn.neural_network import MLPClassifier\n",
    "from sklearn.preprocessing import scale\n",
    "from sklearn.neighbors import KNeighborsClassifier\n",
    "from sklearn.ensemble import ExtraTreesClassifier\n",
    "from sklearn.decomposition import PCA\n",
    "from sklearn.model_selection import cross_val_score\n",
    "\n",
    "import warnings\n",
    "warnings.filterwarnings(\"ignore\")"
   ]
  },
  {
   "cell_type": "code",
   "execution_count": 57,
   "metadata": {
    "collapsed": false,
    "deletable": true,
    "editable": true
   },
   "outputs": [],
   "source": [
    "X_train = np.array(np.load(\"X_train_divided.npy\"))\n",
    "y_train = np.array(np.load(\"y_train_divided.npy\"))\n",
    "X_test = np.array(np.load(\"X_test_divided.npy\"))\n",
    "y_trainonehot = np.array(pd.get_dummies(y_train))\n",
    "X_train = scale(X_train)\n",
    "X_test = scale(X_test)"
   ]
  },
  {
   "cell_type": "markdown",
   "metadata": {
    "deletable": true,
    "editable": true
   },
   "source": [
    "## Neural Network"
   ]
  },
  {
   "cell_type": "code",
   "execution_count": 58,
   "metadata": {
    "collapsed": true,
    "deletable": true,
    "editable": true
   },
   "outputs": [],
   "source": [
    "def unison_shuffled_copies(a, b):\n",
    "    assert len(a) == len(b)\n",
    "    p = np.random.permutation(len(a))\n",
    "    return a[p], b[p]"
   ]
  },
  {
   "cell_type": "code",
   "execution_count": 62,
   "metadata": {
    "collapsed": false,
    "deletable": true,
    "editable": true
   },
   "outputs": [
    {
     "name": "stdout",
     "output_type": "stream",
     "text": [
      "Train on 4355 samples, validate on 4356 samples\n",
      "Epoch 1/20\n",
      "4355/4355 [==============================] - 1s - loss: 1.5768 - acc: 0.5132 - val_loss: 0.5811 - val_acc: 0.8572\n",
      "Epoch 2/20\n",
      "4355/4355 [==============================] - 0s - loss: 0.6482 - acc: 0.7920 - val_loss: 0.2810 - val_acc: 0.9258\n",
      "Epoch 3/20\n",
      "4355/4355 [==============================] - 0s - loss: 0.3872 - acc: 0.8742 - val_loss: 0.1880 - val_acc: 0.9513\n",
      "Epoch 4/20\n",
      "4355/4355 [==============================] - 0s - loss: 0.2957 - acc: 0.9054 - val_loss: 0.1325 - val_acc: 0.9637\n",
      "Epoch 5/20\n",
      "4355/4355 [==============================] - 0s - loss: 0.2282 - acc: 0.9256 - val_loss: 0.1129 - val_acc: 0.9665\n",
      "Epoch 6/20\n",
      "4355/4355 [==============================] - 0s - loss: 0.1884 - acc: 0.9417 - val_loss: 0.0941 - val_acc: 0.9750\n",
      "Epoch 7/20\n",
      "4355/4355 [==============================] - 0s - loss: 0.1823 - acc: 0.9378 - val_loss: 0.0868 - val_acc: 0.9741\n",
      "Epoch 8/20\n",
      "4355/4355 [==============================] - 0s - loss: 0.1467 - acc: 0.9497 - val_loss: 0.0782 - val_acc: 0.9764\n",
      "Epoch 9/20\n",
      "4355/4355 [==============================] - 0s - loss: 0.1224 - acc: 0.9612 - val_loss: 0.0723 - val_acc: 0.9782\n",
      "Epoch 10/20\n",
      "4355/4355 [==============================] - 0s - loss: 0.1116 - acc: 0.9635 - val_loss: 0.0672 - val_acc: 0.9805\n",
      "Epoch 11/20\n",
      "4355/4355 [==============================] - 0s - loss: 0.1177 - acc: 0.9619 - val_loss: 0.0677 - val_acc: 0.9803\n",
      "Epoch 12/20\n",
      "4355/4355 [==============================] - 0s - loss: 0.1076 - acc: 0.9656 - val_loss: 0.0620 - val_acc: 0.9803\n",
      "Epoch 13/20\n",
      "4355/4355 [==============================] - 0s - loss: 0.0984 - acc: 0.9711 - val_loss: 0.0626 - val_acc: 0.9793\n",
      "Epoch 14/20\n",
      "4355/4355 [==============================] - 0s - loss: 0.0986 - acc: 0.9676 - val_loss: 0.0544 - val_acc: 0.9851\n",
      "Epoch 15/20\n",
      "4355/4355 [==============================] - 0s - loss: 0.0758 - acc: 0.9773 - val_loss: 0.0535 - val_acc: 0.9842\n",
      "Epoch 16/20\n",
      "4355/4355 [==============================] - 0s - loss: 0.0790 - acc: 0.9741 - val_loss: 0.0577 - val_acc: 0.9826\n",
      "Epoch 17/20\n",
      "4355/4355 [==============================] - 0s - loss: 0.0706 - acc: 0.9773 - val_loss: 0.0501 - val_acc: 0.9835\n",
      "Epoch 18/20\n",
      "4355/4355 [==============================] - 0s - loss: 0.0657 - acc: 0.9782 - val_loss: 0.0567 - val_acc: 0.9814\n",
      "Epoch 19/20\n",
      "4355/4355 [==============================] - 0s - loss: 0.0695 - acc: 0.9763 - val_loss: 0.0540 - val_acc: 0.9835\n",
      "Epoch 20/20\n",
      "4355/4355 [==============================] - 0s - loss: 0.0589 - acc: 0.9793 - val_loss: 0.0578 - val_acc: 0.9823\n"
     ]
    }
   ],
   "source": [
    "scores = []\n",
    "cv = 1\n",
    "for i in range(cv):\n",
    "    model = Sequential()\n",
    "    model.add(Dense(80, input_dim = 150))\n",
    "    model.add(Dropout(0.2))\n",
    "    model.add(Activation('relu'))\n",
    "    model.add(Dense(40))\n",
    "    model.add(Dropout(0.2))\n",
    "    model.add(Activation('relu'))\n",
    "    model.add(Dense(15))\n",
    "    model.add(Activation('softmax'))\n",
    "    #optimizer = keras.optimizers.Adam(lr=0.001, beta_1=0.9, beta_2=0.999, epsilon=1e-08, decay=1e-4)\n",
    "    model.compile(optimizer = 'adam', loss = 'categorical_crossentropy', metrics = ['accuracy'])\n",
    "\n",
    "    X,y = X_train,y_trainonehot\n",
    "    X,y = unison_shuffled_copies(X, y)\n",
    "    \n",
    "    history = model.fit(X,y, batch_size = 10, nb_epoch = 20, \n",
    "                        verbose = 1, validation_split = 0.5,)\n",
    "    score1 = model.evaluate(X,y,verbose=0)\n",
    "    #score2 = model.evaluate(X_dev,y_devonehot,verbose=0)\n",
    "    #print(score1[1], score2[1])\n",
    "    #scores.append((score1[1]+score2[1])/2)\n",
    "#print(\"Mean score:\",np.mean(scores))"
   ]
  },
  {
   "cell_type": "code",
   "execution_count": 63,
   "metadata": {
    "collapsed": false,
    "deletable": true,
    "editable": true
   },
   "outputs": [
    {
     "data": {
      "image/png": "[encoded data removed]",
      "text/plain": [
       "<matplotlib.figure.Figure at 0x21330607550>"
      ]
     },
     "metadata": {},
     "output_type": "display_data"
    },
    {
     "data": {
      "image/png": "[encoded data removed]",
      "text/plain": [
       "<matplotlib.figure.Figure at 0x21338559ac8>"
      ]
     },
     "metadata": {},
     "output_type": "display_data"
    }
   ],
   "source": [
    "%matplotlib inline\n",
    "plt.plot(history.history['acc'])\n",
    "plt.plot(history.history['val_acc'])\n",
    "plt.title('model accuracy')\n",
    "plt.ylabel('accuracy')\n",
    "plt.xlabel('epoch')\n",
    "plt.ylim((0,1))\n",
    "plt.legend(['train', 'test'], loc='upper left')\n",
    "plt.show()\n",
    "\n",
    "plt.plot(history.history['loss'])\n",
    "plt.plot(history.history['val_loss'])\n",
    "plt.title('model loss')\n",
    "plt.ylabel('loss')\n",
    "plt.xlabel('epoch')\n",
    "plt.legend(['train', 'test'], loc='upper left')\n",
    "plt.show()"
   ]
  },
  {
   "cell_type": "code",
   "execution_count": 64,
   "metadata": {
    "collapsed": false,
    "deletable": true,
    "editable": true
   },
   "outputs": [
    {
     "name": "stdout",
     "output_type": "stream",
     "text": [
      "(array([ 0,  1,  2,  3,  4,  5,  6,  7,  8,  9, 10, 11, 12, 13, 14], dtype=int64), array([168, 230, 158, 158, 217, 186, 221, 312, 229, 153, 122, 160, 247,\n",
      "       118, 301], dtype=int64))\n"
     ]
    }
   ],
   "source": [
    "nn_pred = model.predict(X_test)\n",
    "nn_pred = [np.argmax(nn_pred[i]) for i in range(len(nn_pred))]\n",
    "np.savetxt('y_pred.txt', nn_pred, fmt=\"%d\")\n",
    "print(np.unique(nn_pred,return_counts=True))"
   ]
  },
  {
   "cell_type": "code",
   "execution_count": 67,
   "metadata": {
    "collapsed": false
   },
   "outputs": [],
   "source": [
    "new_pred = []   \n",
    "preds = {}\n",
    "for i in range(298):\n",
    "    preds[i] = []\n",
    "    preds[i].extend(nn_pred[10*i:10*i+10])\n",
    "for x in preds.values():\n",
    "    count = Counter(x)\n",
    "    new_pred.append(count.most_common()[0][0])\n",
    "np.savetxt('y_pred.txt', new_pred, fmt=\"%d\")"
   ]
  },
  {
   "cell_type": "markdown",
   "metadata": {
    "deletable": true,
    "editable": true
   },
   "source": [
    "## Regression Logistique ftw"
   ]
  },
  {
   "cell_type": "code",
   "execution_count": 10,
   "metadata": {
    "collapsed": false,
    "deletable": true,
    "editable": true
   },
   "outputs": [],
   "source": [
    "reg = LogisticRegression()\n",
    "reg.fit(np.concatenate([X_train,X_dev]),np.concatenate([y_train,y_dev]))\n",
    "#clf.fit(X_dev, y_dev)\n",
    "reg_pred = reg.predict(X_test)\n",
    "np.savetxt('y_pred.txt', reg_pred, fmt=\"%d\")"
   ]
  },
  {
   "cell_type": "markdown",
   "metadata": {},
   "source": [
    "## SVM"
   ]
  },
  {
   "cell_type": "code",
   "execution_count": 73,
   "metadata": {
    "collapsed": false
   },
   "outputs": [
    {
     "name": "stdout",
     "output_type": "stream",
     "text": [
      "(array([12]), array([298], dtype=int64))\n",
      "1.0\n"
     ]
    }
   ],
   "source": [
    "from sklearn.svm import SVC\n",
    "#X = np.concatenate([X_train,X_dev])\n",
    "#y = np.concatenate([y_train,y_dev])\n",
    "X,y = X_train_noise, y_train_noise\n",
    "\n",
    "X,y = unison_shuffled_copies(X, y)\n",
    "svm = SVC()\n",
    "svm.fit(X,y)\n",
    "svm_pred = svm.predict(X_test)\n",
    "np.savetxt('y_pred.txt', svm_pred, fmt=\"%d\")\n",
    "print(np.unique(svm_pred,return_counts=True))\n",
    "svm_pred = svm.predict(X_test)"
   ]
  },
  {
   "cell_type": "markdown",
   "metadata": {
    "deletable": true,
    "editable": true
   },
   "source": [
    "# K-means"
   ]
  },
  {
   "cell_type": "code",
   "execution_count": 12,
   "metadata": {
    "collapsed": false,
    "deletable": true,
    "editable": true
   },
   "outputs": [],
   "source": [
    "from sklearn.cluster import KMeans\n",
    "import operator\n",
    "dict_list = []\n",
    "for i in range(15):\n",
    "    dict_list.append({})\n",
    "kmeans = KMeans(n_clusters=15, random_state=0).fit(X_tot)\n",
    "X = np.concatenate([X_train,X_dev])\n",
    "y = np.concatenate([y_train,y_dev])\n",
    "pred = kmeans.predict(X)\n",
    "#print(pred, y)\n",
    "for i in range(len(pred)):\n",
    "    try:\n",
    "        dict_list[pred[i]][y[i]] += 1\n",
    "    except:\n",
    "        dict_list[pred[i]][y[i]] = 1\n",
    "#print(dict_list)\n",
    "corr_dict = {}\n",
    "for i in range(15):\n",
    "    try:\n",
    "        corr_dict[i] = max(dict_list[i].items(), key=operator.itemgetter(1))[0]\n",
    "    except:\n",
    "        corr_dict[i] = None\n",
    "        \n",
    "for i in range(len(pred)):\n",
    "    pred[i] = corr_dict[pred[i]]"
   ]
  },
  {
   "cell_type": "code",
   "execution_count": 13,
   "metadata": {
    "collapsed": false,
    "deletable": true,
    "editable": true
   },
   "outputs": [
    {
     "name": "stdout",
     "output_type": "stream",
     "text": [
      "[[ 0  0  3  0  0 29  0  0  7  0  0  0 15  0  5]\n",
      " [ 0 42  0  0  0  0  0  0  4  0  0  0  2  0 11]\n",
      " [ 0  0 49  0  0  0  0  0  0  0  8  0  0  0  0]\n",
      " [ 0  9  0  0  0  0  0  0  0  0  0  0  9  0 41]\n",
      " [ 0  0  3  0  0 29  0  0  0  0  0  0 27  0  0]\n",
      " [ 0  0  2  0  0 30  0  0  1  0  0  0 27  0  0]\n",
      " [ 0  0  8  0  0  5 36  0  0  0  9  0  0  0  1]\n",
      " [ 0  0 11  0  0  7  1  0 13  0  7  0 17  0  2]\n",
      " [ 0  0  1  0  0  4  0  0 44  0  7  0  2  0  0]\n",
      " [ 0  0 16  0  0 14  0  0  7  0  1  0 16  0  2]\n",
      " [ 0  0  0  0  0  0  0  0  0  0 60  0  0  0  0]\n",
      " [ 0  0  1  0  0 21  0  0  3  0  0  0 33  0  0]\n",
      " [ 0  0  0  0  0 13  2  0  0  0  0  0 44  0  0]\n",
      " [ 0  0  1  0  0  4  0  0  0  0  0  0 12  5 33]\n",
      " [ 0  1  0  0  0  1  0  0  2  0  0  0  2  0 50]]\n",
      "0.412844036697\n"
     ]
    }
   ],
   "source": [
    "\"\"\"y_new = []\n",
    "pred_new = []\n",
    "new_class = {3:1,13:1,14:1,11:4,12:4,9:4,6:4,7:4,10:4}\n",
    "for i in range(len(y)):\n",
    "    try:\n",
    "        y_new.append(new_class[y[i]])        \n",
    "    except:\n",
    "        y_new.append(y[i])\n",
    "    try:\n",
    "        pred_new.append(new_class[pred[i]])\n",
    "    except:\n",
    "        pred_new.append(pred[i])\"\"\"\n",
    "from sklearn.metrics import confusion_matrix, accuracy_score\n",
    "print(confusion_matrix(y,pred))\n",
    "print(accuracy_score(y,pred))"
   ]
  },
  {
   "cell_type": "markdown",
   "metadata": {
    "deletable": true,
    "editable": true
   },
   "source": [
    "## XGBoost "
   ]
  },
  {
   "cell_type": "code",
   "execution_count": 29,
   "metadata": {
    "collapsed": false,
    "deletable": true,
    "editable": true
   },
   "outputs": [
    {
     "name": "stdout",
     "output_type": "stream",
     "text": [
      "(872, 150) (872,)\n"
     ]
    },
    {
     "data": {
      "text/plain": [
       "XGBClassifier(base_score=0.5, colsample_bylevel=1, colsample_bytree=1,\n",
       "       gamma=0, learning_rate=1, max_delta_step=0, max_depth=3,\n",
       "       min_child_weight=1, missing=None, n_estimators=100, nthread=-1,\n",
       "       objective='multi:softprob', reg_alpha=0, reg_lambda=1,\n",
       "       scale_pos_weight=1, seed=0, silent=True, subsample=1)"
      ]
     },
     "execution_count": 29,
     "metadata": {},
     "output_type": "execute_result"
    }
   ],
   "source": [
    "import os\n",
    "mingw_path = 'C:\\\\mingw64\\\\bin'\n",
    "os.environ['PATH'] = mingw_path + ';' + os.environ['PATH']\n",
    "import xgboost as xgb\n",
    "\n",
    "gbm = xgb.XGBClassifier()\n",
    "X = np.concatenate([X_train,X_dev])\n",
    "y = np.concatenate([y_train,y_dev])\n",
    "X,y = unison_shuffled_copies(X, y)\n",
    "    \n",
    "print(X.shape,y.shape)\n",
    "gbm.fit(X, y)"
   ]
  },
  {
   "cell_type": "code",
   "execution_count": 30,
   "metadata": {
    "collapsed": false,
    "deletable": true,
    "editable": true
   },
   "outputs": [
    {
     "name": "stdout",
     "output_type": "stream",
     "text": [
      "1.0\n",
      "(array([ 0,  1,  2,  3,  4,  5,  6,  7,  8,  9, 10, 11, 12, 13, 14]), array([16, 22, 26, 16, 21, 15, 26, 25, 18, 23,  9, 23, 24, 10, 24], dtype=int64))\n"
     ]
    }
   ],
   "source": [
    "xgboost_pred = gbm.predict(X_test)\n",
    "np.savetxt('y_pred.txt', xgboost_pred, fmt=\"%d\")\n",
    "print(gbm.score(X,y))\n",
    "print(np.unique(xgboost_pred,return_counts=True))"
   ]
  },
  {
   "cell_type": "markdown",
   "metadata": {
    "deletable": true,
    "editable": true
   },
   "source": [
    "## Mix results "
   ]
  },
  {
   "cell_type": "code",
   "execution_count": 16,
   "metadata": {
    "collapsed": false,
    "deletable": true,
    "editable": true
   },
   "outputs": [
    {
     "name": "stdout",
     "output_type": "stream",
     "text": [
      "(array([ 0,  1,  2,  3,  4,  5,  6,  7,  8,  9, 10, 11, 12, 13, 14]), array([31, 18,  9, 18, 18, 20, 27, 27, 25, 22,  9, 21, 23, 11, 19], dtype=int64))\n"
     ]
    }
   ],
   "source": [
    "new_pred = []\n",
    "from collections import Counter\n",
    "preds = {}\n",
    "for i in range(len(nn_pred)):\n",
    "    preds[i] = []\n",
    "    #preds[i].append(nn_pred[i])\n",
    "    preds[i].append(svm_pred[i])\n",
    "    preds[i].append(reg_pred[i])\n",
    "    preds[i].append(xgboost_pred[i])\n",
    "for x in preds.values():\n",
    "    count = Counter(x)\n",
    "    new_pred.append(count.most_common()[0][0])\n",
    "np.savetxt('y_pred.txt', new_pred, fmt=\"%d\")\n",
    "print(np.unique(new_pred,return_counts=True))"
   ]
  }
 ],
 "metadata": {
  "kernelspec": {
   "display_name": "Python 3",
   "language": "python",
   "name": "python3"
  },
  "language_info": {
   "codemirror_mode": {
    "name": "ipython",
    "version": 3
   },
   "file_extension": ".py",
   "mimetype": "text/x-python",
   "name": "python",
   "nbconvert_exporter": "python",
   "pygments_lexer": "ipython3",
   "version": "3.5.1"
  }
 },
 "nbformat": 4,
 "nbformat_minor": 2
}
